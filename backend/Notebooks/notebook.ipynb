{
 "cells": [
  {
   "cell_type": "markdown",
   "id": "8079778f",
   "metadata": {},
   "source": [
    "# Parser"
   ]
  },
  {
   "cell_type": "code",
   "execution_count": 1,
   "id": "f83f37ec",
   "metadata": {},
   "outputs": [],
   "source": [
    "# backend/sitemap_parser.py\n",
    "from bs4 import BeautifulSoup\n",
    "import requests\n",
    "from urllib.parse import urlparse, urlunparse\n",
    "\n",
    "HEADERS = {\"User-Agent\": \"Mozilla/5.0\"}"
   ]
  },
  {
   "cell_type": "code",
   "execution_count": 2,
   "id": "152d9596",
   "metadata": {},
   "outputs": [
    {
     "name": "stdout",
     "output_type": "stream",
     "text": [
      "Normalized URL: https://www.nortlightai.com\n",
      "Normalized URL: https://www.nortlightai.com\n",
      "Normalized URL: https://www.nortlightai.com\n",
      "Normalized URL: https://www.nortlightai.com\n",
      "Normalized URL: https://www.nortlightai.com\n",
      "Normalized URL: https://www.nortlightai.com\n"
     ]
    }
   ],
   "source": [
    "def normalize_url(url: str) -> str:\n",
    "    url = url.lower().strip() # Remove leading/trailing whitespace and convert to lowercase\n",
    "    if not url.startswith(\"http\"):\n",
    "        url = \"https://\" + url\n",
    "    \n",
    "    if url.startswith(\"https://\") and not url.startswith(\"https://www.\"):\n",
    "        url = url.replace(\"https://\", \"https://www.\", 1)\n",
    "    elif not url.startswith(\"https://www.\"):\n",
    "        url = \"https://www.\" + url\n",
    "    \n",
    "    parsed = urlparse(url)\n",
    "\n",
    "    # Normalize to scheme + netloc only (strip path, params, query, fragment)\n",
    "    normalized_url = urlunparse((parsed.scheme, parsed.netloc, '', '', '', ''))\n",
    "    return normalized_url\n",
    "\n",
    "print(f\"Normalized URL: {normalize_url(\"nortlightai.com\")}\")\n",
    "print(f\"Normalized URL: {normalize_url(\"www.nortlightai.com\")}\")\n",
    "print(f\"Normalized URL: {normalize_url(\"https://www.nortlightai.com\")}\")\n",
    "print(f\"Normalized URL: {normalize_url(\"https://nortlightai.com\")}\")\n",
    "print(f\"Normalized URL: {normalize_url(\"https://nortlightai.com/\")}\")\n",
    "print(f\"Normalized URL: {normalize_url(\"https://nortlightai.com/content\")}\")"
   ]
  },
  {
   "cell_type": "code",
   "execution_count": 3,
   "id": "49de76fb",
   "metadata": {},
   "outputs": [
    {
     "name": "stdout",
     "output_type": "stream",
     "text": [
      "Fetched Sitemap: ['https://northlightai.com/sitemap.website.xml', 'https://northlightai.com/sitemap.blog.xml', 'https://northlightai.com/sitemap.ols.xml']\n",
      "Fetched Sitemap: []\n"
     ]
    }
   ],
   "source": [
    "def fetch_sitemap(url): # Fetch each xml sitemap in one layer.\n",
    "    try:\n",
    "        response = requests.get(url, headers=HEADERS, timeout=5)\n",
    "        response.raise_for_status()\n",
    "        soup = BeautifulSoup(response.content, 'lxml-xml')\n",
    "        return [loc.text for loc in soup.find_all('loc')]\n",
    "    except Exception as e:\n",
    "        print(f\"Error: {e}\")\n",
    "        return []\n",
    "print(f\"Fetched Sitemap: {fetch_sitemap('https://northlightai.com/sitemap.xml')}\") # This should receive .xml URLs\n",
    "print(f\"Fetched Sitemap: {fetch_sitemap('https://northlightai.com')}\")"
   ]
  },
  {
   "cell_type": "code",
   "execution_count": 4,
   "id": "e4a0cc05",
   "metadata": {},
   "outputs": [
    {
     "name": "stdout",
     "output_type": "stream",
     "text": [
      "Parsed Sitemap: {'https://northlightai.com/sitemap.xml': {'https://northlightai.com/sitemap.website.xml': ['https://northlightai.com/publications', 'https://northlightai.com/faq', 'https://northlightai.com/our-customers-1', 'https://northlightai.com/', 'https://northlightai.com/ai-strategic-consulting', 'https://northlightai.com/ai-innovation-lab', 'https://northlightai.com/our-team', 'https://northlightai.com/higher-education', 'https://northlightai.com/product-development', 'https://northlightai.com/north-light-values', 'https://northlightai.com/ai-training-%26-development-1', 'https://northlightai.com/technical-partners', 'https://northlightai.com/ai-literacy-sponsorships', 'https://northlightai.com/m/login', 'https://northlightai.com/m/reset', 'https://northlightai.com/m/create', 'https://northlightai.com/m/create-account'], 'https://northlightai.com/sitemap.blog.xml': ['https://northlightai.com/publications/f/north-light-ai-partners-with-unh-to-launch-affordable-ai-training', 'https://northlightai.com/publications/f/openais-new-o1-strawberry-model-released', 'https://northlightai.com/publications/f/north-light-ai-and-buzzy-join-forces-in-ai-education', 'https://northlightai.com/publications/f/microsoft-linkedin-and-the-year-of-ai', 'https://northlightai.com/publications/f/chatgpt-4o-updates-from-openai', 'https://northlightai.com/publications/f/this-week-in-ai-51324', 'https://northlightai.com/publications/f/nvidia-rendered-the-radioactive-star', 'https://northlightai.com/publications/f/secret-aigent-man', 'https://northlightai.com/publications/f/co-founder-interviewed-by-pictory-ai', 'https://northlightai.com/publications/f/prompt-engineering---a-baseline', 'https://northlightai.com/publications/f/what-is-a-token-in-chatgpt', 'https://northlightai.com/publications/f/large-language-models-llms-a-brief-overview', 'https://northlightai.com/publications/f/google-gemini', 'https://northlightai.com/publications/f/chef-ai', 'https://northlightai.com/publications/f/why-ai'], 'https://northlightai.com/sitemap.ols.xml': ['https://northlightai.com']}}\n",
      "Parsed Sitemap: {'https://northlightai.com': []}\n"
     ]
    }
   ],
   "source": [
    "def parse_sitemap(url): # Parse the sitemap and return a dictionary of URLs. Applies fetch_sitemap to each xml sitemap layer by layer.\n",
    "    locs = fetch_sitemap(url)\n",
    "    if not locs:\n",
    "        return {url: []}\n",
    "    \n",
    "    tree = {}\n",
    "    urls = []\n",
    "\n",
    "    for loc in locs:\n",
    "        if loc.endswith('.xml'):\n",
    "            tree[loc] = parse_sitemap(loc)\n",
    "        else:\n",
    "            urls.append(loc)\n",
    "\n",
    "    if tree and urls:\n",
    "        tree[\"_final_urls\"] = urls\n",
    "        return tree\n",
    "    elif urls:\n",
    "        return urls\n",
    "    else:\n",
    "        return {url: tree}\n",
    "print(f\"Parsed Sitemap: {parse_sitemap('https://northlightai.com/sitemap.xml')}\") # This should receive .xml URLs\n",
    "print(f\"Parsed Sitemap: {parse_sitemap('https://northlightai.com')}\")"
   ]
  },
  {
   "cell_type": "code",
   "execution_count": 5,
   "id": "3e457d1c",
   "metadata": {},
   "outputs": [
    {
     "name": "stdout",
     "output_type": "stream",
     "text": [
      "Final URLs: ['https://www.northlightai.com', 'https://northlightai.com/publications', 'https://northlightai.com/faq', 'https://northlightai.com/our-customers-1', 'https://northlightai.com/', 'https://northlightai.com/ai-strategic-consulting', 'https://northlightai.com/ai-innovation-lab', 'https://northlightai.com/our-team', 'https://northlightai.com/higher-education', 'https://northlightai.com/product-development', 'https://northlightai.com/north-light-values', 'https://northlightai.com/ai-training-%26-development-1', 'https://northlightai.com/technical-partners', 'https://northlightai.com/ai-literacy-sponsorships', 'https://northlightai.com/m/login', 'https://northlightai.com/m/reset', 'https://northlightai.com/m/create', 'https://northlightai.com/m/create-account', 'https://northlightai.com/publications/f/north-light-ai-partners-with-unh-to-launch-affordable-ai-training', 'https://northlightai.com/publications/f/openais-new-o1-strawberry-model-released', 'https://northlightai.com/publications/f/north-light-ai-and-buzzy-join-forces-in-ai-education', 'https://northlightai.com/publications/f/microsoft-linkedin-and-the-year-of-ai', 'https://northlightai.com/publications/f/chatgpt-4o-updates-from-openai', 'https://northlightai.com/publications/f/this-week-in-ai-51324', 'https://northlightai.com/publications/f/nvidia-rendered-the-radioactive-star', 'https://northlightai.com/publications/f/secret-aigent-man', 'https://northlightai.com/publications/f/co-founder-interviewed-by-pictory-ai', 'https://northlightai.com/publications/f/prompt-engineering---a-baseline', 'https://northlightai.com/publications/f/what-is-a-token-in-chatgpt', 'https://northlightai.com/publications/f/large-language-models-llms-a-brief-overview', 'https://northlightai.com/publications/f/google-gemini', 'https://northlightai.com/publications/f/chef-ai', 'https://northlightai.com/publications/f/why-ai', 'https://northlightai.com']\n",
      "Final URLs: ['https://www.northlightai.com', 'https://northlightai.com/publications', 'https://northlightai.com/faq', 'https://northlightai.com/our-customers-1', 'https://northlightai.com/', 'https://northlightai.com/ai-strategic-consulting', 'https://northlightai.com/ai-innovation-lab', 'https://northlightai.com/our-team', 'https://northlightai.com/higher-education', 'https://northlightai.com/product-development', 'https://northlightai.com/north-light-values', 'https://northlightai.com/ai-training-%26-development-1', 'https://northlightai.com/technical-partners', 'https://northlightai.com/ai-literacy-sponsorships', 'https://northlightai.com/m/login', 'https://northlightai.com/m/reset', 'https://northlightai.com/m/create', 'https://northlightai.com/m/create-account', 'https://northlightai.com/publications/f/north-light-ai-partners-with-unh-to-launch-affordable-ai-training', 'https://northlightai.com/publications/f/openais-new-o1-strawberry-model-released', 'https://northlightai.com/publications/f/north-light-ai-and-buzzy-join-forces-in-ai-education', 'https://northlightai.com/publications/f/microsoft-linkedin-and-the-year-of-ai', 'https://northlightai.com/publications/f/chatgpt-4o-updates-from-openai', 'https://northlightai.com/publications/f/this-week-in-ai-51324', 'https://northlightai.com/publications/f/nvidia-rendered-the-radioactive-star', 'https://northlightai.com/publications/f/secret-aigent-man', 'https://northlightai.com/publications/f/co-founder-interviewed-by-pictory-ai', 'https://northlightai.com/publications/f/prompt-engineering---a-baseline', 'https://northlightai.com/publications/f/what-is-a-token-in-chatgpt', 'https://northlightai.com/publications/f/large-language-models-llms-a-brief-overview', 'https://northlightai.com/publications/f/google-gemini', 'https://northlightai.com/publications/f/chef-ai', 'https://northlightai.com/publications/f/why-ai', 'https://northlightai.com']\n",
      "Final URLs: ['https://www.northlightai.com', 'https://northlightai.com/publications', 'https://northlightai.com/faq', 'https://northlightai.com/our-customers-1', 'https://northlightai.com/', 'https://northlightai.com/ai-strategic-consulting', 'https://northlightai.com/ai-innovation-lab', 'https://northlightai.com/our-team', 'https://northlightai.com/higher-education', 'https://northlightai.com/product-development', 'https://northlightai.com/north-light-values', 'https://northlightai.com/ai-training-%26-development-1', 'https://northlightai.com/technical-partners', 'https://northlightai.com/ai-literacy-sponsorships', 'https://northlightai.com/m/login', 'https://northlightai.com/m/reset', 'https://northlightai.com/m/create', 'https://northlightai.com/m/create-account', 'https://northlightai.com/publications/f/north-light-ai-partners-with-unh-to-launch-affordable-ai-training', 'https://northlightai.com/publications/f/openais-new-o1-strawberry-model-released', 'https://northlightai.com/publications/f/north-light-ai-and-buzzy-join-forces-in-ai-education', 'https://northlightai.com/publications/f/microsoft-linkedin-and-the-year-of-ai', 'https://northlightai.com/publications/f/chatgpt-4o-updates-from-openai', 'https://northlightai.com/publications/f/this-week-in-ai-51324', 'https://northlightai.com/publications/f/nvidia-rendered-the-radioactive-star', 'https://northlightai.com/publications/f/secret-aigent-man', 'https://northlightai.com/publications/f/co-founder-interviewed-by-pictory-ai', 'https://northlightai.com/publications/f/prompt-engineering---a-baseline', 'https://northlightai.com/publications/f/what-is-a-token-in-chatgpt', 'https://northlightai.com/publications/f/large-language-models-llms-a-brief-overview', 'https://northlightai.com/publications/f/google-gemini', 'https://northlightai.com/publications/f/chef-ai', 'https://northlightai.com/publications/f/why-ai', 'https://northlightai.com']\n",
      "There are 34 links ready to be scraped.\n"
     ]
    }
   ],
   "source": [
    "def extract_final_urls(url): # List all URLs in the sitemap.\n",
    "    \n",
    "    url = normalize_url(url)\n",
    "    final_urls = [url]\n",
    "    if not url.endswith('/sitemap.xml'):\n",
    "        url += '/sitemap.xml'\n",
    "    tree = parse_sitemap(url)\n",
    "    \n",
    "\n",
    "    def _walk_tree(node):\n",
    "        if isinstance(node, dict):\n",
    "            for key, value in node.items():\n",
    "                if key == \"_final_urls\" and isinstance(value, list):\n",
    "                    final_urls.extend(value)\n",
    "                else:\n",
    "                    _walk_tree(value)\n",
    "        elif isinstance(node, list):\n",
    "            final_urls.extend([v for v in node if not v.endswith('.xml')])\n",
    "\n",
    "    _walk_tree(tree)\n",
    "\n",
    "    \n",
    "    return final_urls, tree\n",
    "\n",
    "print(f\"Final URLs: {extract_final_urls('https://northlightai.com')[0]}\")\n",
    "print(f\"Final URLs: {extract_final_urls('https://www.northlightai.com/')[0]}\")\n",
    "print(f\"Final URLs: {extract_final_urls('https://northlightai.com/sitemap.xml')[0]}\")\n",
    "\n",
    "print(f\"There are {len(extract_final_urls('https://northlightai.com/sitemap.xml')[0])} links ready to be scraped.\")\n",
    "\n",
    "# The outout here is an input for the scraper or the visualizer."
   ]
  },
  {
   "cell_type": "markdown",
   "id": "435101c1",
   "metadata": {},
   "source": [
    "# Scraper"
   ]
  },
  {
   "cell_type": "code",
   "execution_count": 6,
   "id": "994cd3cf",
   "metadata": {},
   "outputs": [
    {
     "name": "stdout",
     "output_type": "stream",
     "text": [
      "Scraped text: AI Strategic Consulting Services | North Light AI Home Our Services AI Training & Development AI Lit...\n",
      "len(text): 2972 characters\n"
     ]
    }
   ],
   "source": [
    "import requests\n",
    "from bs4 import BeautifulSoup\n",
    "from selenium import webdriver\n",
    "from selenium.webdriver.chrome.options import Options\n",
    "from selenium.webdriver.common.by import By\n",
    "import time\n",
    "\n",
    "\n",
    "HEADERS = {\"User-Agent\": \"Mozilla/5.0\"}\n",
    "\n",
    "def scrape(url):\n",
    "    try:\n",
    "        response = requests.get(url, headers=HEADERS, timeout=10)\n",
    "        soup = BeautifulSoup(response.text, 'html.parser')\n",
    "        text = soup.get_text(separator=' ', strip=True)\n",
    "        if text:\n",
    "            return text\n",
    "    except:\n",
    "        pass\n",
    "\n",
    "    try:\n",
    "        options = Options()\n",
    "        options.add_argument('--headless')\n",
    "        options.add_argument('--disable-gpu')\n",
    "        options.add_argument('--no-sandbox')\n",
    "        driver = webdriver.Chrome(options=options)\n",
    "        driver.get(url)\n",
    "        time.sleep(3)\n",
    "        elems = driver.find_elements(By.TAG_NAME, \"p\")\n",
    "        text = ' '.join(elem.text for elem in elems).strip()\n",
    "        driver.quit()\n",
    "        return text\n",
    "    except:\n",
    "        return \"\"\n",
    "    \n",
    "text = scrape(\"https://northlightai.com\")\n",
    "print(f\"Scraped text: {text[:100]}...\")  # Print the first 100 characters of the scraped text\n",
    "print(f\"len(text): {len(text)} characters\")\n",
    "\n",
    "# The output here is an input for the RAG model."
   ]
  },
  {
   "cell_type": "markdown",
   "id": "eacedc5f",
   "metadata": {},
   "source": [
    "# Visualizer"
   ]
  },
  {
   "cell_type": "code",
   "execution_count": 7,
   "id": "8ad7f180",
   "metadata": {},
   "outputs": [
    {
     "name": "stdout",
     "output_type": "stream",
     "text": [
      "Output files successfully generated: output/sitemap_network.html and output/sitemap_tree.json\n"
     ]
    }
   ],
   "source": [
    "import networkx as nx\n",
    "from pyvis.network import Network\n",
    "import json\n",
    "\n",
    "def tree_to_edges(tree, parent=None):\n",
    "    edges = []\n",
    "    if isinstance(tree, list):\n",
    "        for item in tree:\n",
    "            edges.append((parent, item))\n",
    "    elif isinstance(tree, dict):\n",
    "        for key, value in tree.items():\n",
    "            if parent:\n",
    "                edges.append((parent, key))\n",
    "            edges += tree_to_edges(value, parent=key)\n",
    "    return edges\n",
    "\n",
    "def generate_graph(sitemap_url, output_file=\"sitemap_network.html\", json_filename=None):\n",
    "    tree = parse_sitemap(sitemap_url)\n",
    "\n",
    "    # Default name if not provided\n",
    "    if json_filename is None:\n",
    "        json_filename = \"sitemap_tree.json\"\n",
    "\n",
    "    with open(json_filename, \"w\", encoding=\"utf-8\") as f:\n",
    "        json.dump(tree, f, indent=2)\n",
    "\n",
    "    edges = tree_to_edges(tree[sitemap_url], parent=sitemap_url)\n",
    "\n",
    "    G = nx.DiGraph()\n",
    "    G.add_edges_from(edges)\n",
    "    net = Network(height=\"750px\", width=\"100%\", directed=True, notebook=False)\n",
    "\n",
    "    for node in G.nodes():\n",
    "        if node == sitemap_url:\n",
    "            net.add_node(node, label=str(urlparse(sitemap_url).netloc), title=node, shape='dot', size=30,\n",
    "                         color={\"background\": \"white\", \"border\": \"blue\"}, borderWidth=4,\n",
    "                         font={\"color\": \"black\", \"size\": 35, \"bold\": True})\n",
    "        elif node.endswith('.xml'):\n",
    "            net.add_node(node, label=\"Sitemap\", title=node, shape='dot', size=25)\n",
    "        else:\n",
    "            net.add_node(node, label=\" \", title=node, shape='dot', size=15,\n",
    "                         color={\"background\": \"#ccffcc\", \"border\": \"#009933\"})\n",
    "\n",
    "    for source, target in G.edges():\n",
    "        net.add_edge(source, target)\n",
    "\n",
    "    net.force_atlas_2based()\n",
    "    net.set_options(\"\"\"\n",
    "    { \"physics\": { \"stabilization\": false }, \"interaction\": { \"dragNodes\": true } }\n",
    "    \"\"\")\n",
    "    net.write_html(output_file)\n",
    "\n",
    "    # Read the generated HTML\n",
    "    with open(output_file, \"r\", encoding=\"utf-8\") as f:\n",
    "        html = f.read()\n",
    "\n",
    "    # Inject JS\n",
    "    inject_js = f\"\"\"\n",
    "    <script type=\"text/javascript\">\n",
    "    window.addEventListener(\"load\", function () {{\n",
    "        // ✅ Hide the Pyvis loading bar if it exists\n",
    "        const loader = document.getElementById(\"loadingBar\");\n",
    "        if (loader) loader.style.display = \"none\";\n",
    "\n",
    "        const rootNodeId = \"{sitemap_url}\";\n",
    "        const titleNodeId = \"graph_title\";\n",
    "        const originalLabels = {{}};\n",
    "\n",
    "        network.on(\"click\", function (params) {{\n",
    "        if (params.nodes.length > 0) {{\n",
    "            let clickedNodeId = params.nodes[0];\n",
    "\n",
    "            nodes.get().forEach(function (node) {{\n",
    "            if (!(node.id in originalLabels)) {{\n",
    "                originalLabels[node.id] = node.label;\n",
    "            }}\n",
    "\n",
    "            if (node.id === rootNodeId || node.id === titleNodeId) {{\n",
    "                return;\n",
    "            }}\n",
    "\n",
    "            if (node.id === clickedNodeId) {{\n",
    "                nodes.update({{id: node.id, label: node.title}});\n",
    "            }} else {{\n",
    "                nodes.update({{id: node.id, label: \"\"}});\n",
    "            }}\n",
    "            }});\n",
    "        }} else {{\n",
    "            nodes.get().forEach(function (node) {{\n",
    "            if (node.id !== rootNodeId && node.id !== titleNodeId && originalLabels[node.id] === \"\") {{\n",
    "                nodes.update({{id: node.id, label: \"\"}});\n",
    "            }}\n",
    "            }});\n",
    "        }}\n",
    "        }});\n",
    "    }});\n",
    "    </script>\n",
    "    \"\"\"\n",
    "\n",
    "    # Inject before </body>\n",
    "    html = html.replace(\"</body>\", inject_js + \"\\\\n</body>\")\n",
    "\n",
    "    # Save it back\n",
    "    with open(output_file, \"w\", encoding=\"utf-8\") as f:\n",
    "        f.write(html)\n",
    "    print(f\"Output files successfully generated: {output_file} and {json_filename}\")\n",
    "    return output_file\n",
    "\n",
    "sitemap_url = 'https://northlightai.com/sitemap.xml' # This should receive .xml URLs\n",
    "output_file = generate_graph(sitemap_url, output_file=\"output/sitemap_network.html\", json_filename=\"output/sitemap_tree.json\")\n",
    "\n"
   ]
  },
  {
   "cell_type": "markdown",
   "id": "995f10af",
   "metadata": {},
   "source": [
    "# RAG model (using Langchain)\n",
    "## Step 1) Indexing"
   ]
  },
  {
   "cell_type": "code",
   "execution_count": 8,
   "id": "96b7d3fb",
   "metadata": {},
   "outputs": [
    {
     "name": "stdout",
     "output_type": "stream",
     "text": [
      "Openai API key successfully imported from .env file.\n"
     ]
    }
   ],
   "source": [
    "import getpass\n",
    "import os\n",
    "import dotenv\n",
    "# Load environment variables from .env file\n",
    "dotenv.load_dotenv()\n",
    "\n",
    "if not os.environ.get(\"OPENAI_API_KEY\"):\n",
    "  os.environ[\"OPENAI_API_KEY\"] = getpass.getpass(\"Enter API key for OpenAI: \")\n",
    "else:\n",
    "  print(f\"Openai API key successfully imported from .env file.\")\n",
    "  #print(f\"Key: {os.environ.get('OPENAI_API_KEY')}\")"
   ]
  },
  {
   "cell_type": "markdown",
   "id": "475dcd20",
   "metadata": {},
   "source": [
    "### Setup"
   ]
  },
  {
   "cell_type": "code",
   "execution_count": 9,
   "id": "37c6280a",
   "metadata": {},
   "outputs": [],
   "source": [
    "# Chat Model\n",
    "from langchain.chat_models import init_chat_model\n",
    "\n",
    "llm = init_chat_model(\"gpt-4o-mini\", model_provider=\"openai\")\n",
    "\n",
    "# Embedding Model\n",
    "from langchain_openai import OpenAIEmbeddings\n",
    "\n",
    "embeddings = OpenAIEmbeddings(model=\"text-embedding-3-large\")\n",
    "\n",
    "# Vector Store-In memory\n",
    "from langchain_core.vectorstores import InMemoryVectorStore\n",
    "\n",
    "vector_store = InMemoryVectorStore(embeddings)\n",
    "\n",
    "# Vector Store-Supabase\n",
    "from langchain_community.vectorstores import SupabaseVectorStore\n",
    "from langchain_openai import OpenAIEmbeddings  # or any other embedding model\n",
    "from supabase import create_client, Client\n",
    "\n",
    "# Initialize Supabase client\n",
    "\n",
    "supabase_url = os.environ.get(\"SUPABASE_URL\")\n",
    "supabase_key = os.environ.get(\"SUPABASE_SERVICE_KEY\")\n",
    "supabase: Client = create_client(supabase_url, supabase_key)\n",
    "\n",
    "embeddings = OpenAIEmbeddings(model=\"text-embedding-3-large\")\n",
    "\n",
    "# Create or connect to Supabase vector store\n",
    "vector_store = SupabaseVectorStore(\n",
    "    client=supabase,\n",
    "    embedding=embeddings,\n",
    "    table_name=\"prime_ready.webcontent\",  # You can change this\n",
    "    query_name=\"prime_ready.match_documents\"  # Needs to be created in Supabase SQL\n",
    ")\n"
   ]
  },
  {
   "cell_type": "markdown",
   "id": "481cb338",
   "metadata": {},
   "source": [
    "### Loading"
   ]
  },
  {
   "cell_type": "code",
   "execution_count": 10,
   "id": "71a15dbf",
   "metadata": {},
   "outputs": [
    {
     "name": "stdout",
     "output_type": "stream",
     "text": [
      "Scraped text: AI Strategic Consulting Services | North Light AI Home Our Services AI Training & Development AI Lit...\n",
      "len(text): 2972 characters\n",
      "✅ Company ID: eec31547-8111-4414-b1b0-0d4778bb3302\n",
      "========================================\n",
      "Scraped and converted to LangChain Document.\n",
      "Document preview: AI Strategic Consulting Services | North Light AI Home Our Services AI Training & Development AI Lit...\n",
      "Metadata: {'source': 'https://northlightai.com', 'website': 'https://northlightai.com', 'company_id': 'eec31547-8111-4414-b1b0-0d4778bb3302'}\n"
     ]
    }
   ],
   "source": [
    "from langchain_core.documents import Document  # Core document class\n",
    "# Load content from scraped web pages\n",
    "company_name = \"Northlight AI\"\n",
    "website = \"https://northlightai.com\"\n",
    "link = \"https://northlightai.com\"\n",
    "text = scrape(link)\n",
    "\n",
    "print(f\"Scraped text: {text[:100]}...\")  # Print the first 100 characters of the scraped text\n",
    "print(f\"len(text): {len(text)} characters\")\n",
    "\n",
    "url = normalize_url(website)\n",
    "\n",
    "if not url.endswith('/sitemap.xml'):\n",
    "    url += '/sitemap.xml'\n",
    "tree = parse_sitemap(url)\n",
    "\n",
    "# Add company into company table in Supabase\n",
    "company_id = supabase.rpc(\"insert_company\", {\n",
    "    \"company_name\": company_name,\n",
    "    \"link\": website,  # ✅ must match SQL function param name\n",
    "    \"sitemap\": json.dumps(tree)  # Add the sitemap data\n",
    "}).execute().data\n",
    "\n",
    "print(f\"✅ Company ID: {company_id}\")\n",
    "\n",
    "# Create metadata and document content\n",
    "metadata={\n",
    "        \"source\": str(link),\n",
    "        \"website\": str(website),\n",
    "        \"company_id\": str(company_id)\n",
    "    }\n",
    "\n",
    "docs = Document(\n",
    "    page_content=text,\n",
    "    metadata=metadata\n",
    ")\n",
    "\n",
    "print(\"==\" * 20)\n",
    "\n",
    "print(f\"Scraped and converted to LangChain Document.\")\n",
    "print(f\"Document preview: {docs.page_content[:100]}...\")\n",
    "print(f\"Metadata: {docs.metadata}\")"
   ]
  },
  {
   "cell_type": "markdown",
   "id": "c4a9e73b",
   "metadata": {},
   "source": [
    "### Chunking and storing"
   ]
  },
  {
   "cell_type": "code",
   "execution_count": 11,
   "id": "f2015d33",
   "metadata": {},
   "outputs": [
    {
     "name": "stdout",
     "output_type": "stream",
     "text": [
      "\n",
      "--- Chunk 1 ---\n",
      "AI Strategic Consulting Services | North Light AI  ...\n",
      "Metadata: {'source': 'https://northlightai.com', 'website': 'https://northlightai.com', 'company_id': 'eec31547-8111-4414-b1b0-0d4778bb3302'}\n",
      "\n",
      "--- Chunk 2 ---\n",
      "Higher Education Resources FAQ Publications Accoun ...\n",
      "Metadata: {'source': 'https://northlightai.com', 'website': 'https://northlightai.com', 'company_id': 'eec31547-8111-4414-b1b0-0d4778bb3302'}\n",
      "\n",
      "--- Chunk 3 ---\n",
      "Training & Development Workshops North Light Partn ...\n",
      "Metadata: {'source': 'https://northlightai.com', 'website': 'https://northlightai.com', 'company_id': 'eec31547-8111-4414-b1b0-0d4778bb3302'}\n",
      "\n",
      "--- Chunk 4 ---\n",
      "/ Organization Your Role / Title within Organizati ...\n",
      "Metadata: {'source': 'https://northlightai.com', 'website': 'https://northlightai.com', 'company_id': 'eec31547-8111-4414-b1b0-0d4778bb3302'}\n"
     ]
    }
   ],
   "source": [
    "# Chunking\n",
    "from langchain_text_splitters import RecursiveCharacterTextSplitter\n",
    "\n",
    "text_splitter = RecursiveCharacterTextSplitter(chunk_size=1000, chunk_overlap=200)\n",
    "all_splits = text_splitter.split_documents([docs])\n",
    "\n",
    "for i, chunk in enumerate(all_splits):\n",
    "    print(f\"\\n--- Chunk {i+1} ---\")\n",
    "    print(chunk.page_content[:50], \"...\")  # First 300 characters\n",
    "    print(f\"Metadata: {chunk.metadata}\")\n",
    "\n",
    "text_splitter = RecursiveCharacterTextSplitter(chunk_size=1000, chunk_overlap=200)\n",
    "chunks = text_splitter.split_documents([docs])\n",
    "\n",
    "# Index chunks and store in Supabase\n",
    "for chunk in chunks:\n",
    "    \n",
    "    # Generate embedding\n",
    "    vector = embeddings.embed_query(chunk.page_content)\n",
    "\n",
    "    # Remove the old data with source = link\n",
    "    ## Design an rpc for that to avoid duplicates\n",
    "    ## Or just implement a check in the insert function\n",
    "    #### See you Tomorrow ####\n",
    "\n",
    "    # Insert into Supabase\n",
    "    supabase.rpc(\"insert_webcontent\", {\n",
    "        \"company_id\": company_id,\n",
    "        \"source\": link,\n",
    "        \"content\": chunk.page_content,\n",
    "        \"metadata\": metadata,\n",
    "        \"embedding\": vector  # list of floats; pgvector input accepted here\n",
    "    }).execute()\n",
    "\n",
    "# Now the database is ready to be queried.\n",
    "\n"
   ]
  },
  {
   "cell_type": "markdown",
   "id": "629874fc",
   "metadata": {},
   "source": [
    "### Removing the enteries from the tables"
   ]
  },
  {
   "cell_type": "code",
   "execution_count": 12,
   "id": "6d482d5d",
   "metadata": {},
   "outputs": [
    {
     "data": {
      "text/plain": [
       "SingleAPIResponse[TypeVar](data=[], count=None)"
      ]
     },
     "execution_count": 12,
     "metadata": {},
     "output_type": "execute_result"
    }
   ],
   "source": [
    "# Remove one entry from the database\n",
    "# Delete the specific row from prime_ready.webcontent\n",
    "target_id = \"6d9c96dd-a8bb-4374-a984-9286d2b3373f\"\n",
    "\n",
    "supabase.rpc(\"delete_webcontent_by_id\", {\n",
    "    \"target_id\": target_id\n",
    "}).execute()\n",
    "\n",
    "\n"
   ]
  },
  {
   "cell_type": "code",
   "execution_count": 13,
   "id": "d46a48a0",
   "metadata": {},
   "outputs": [
    {
     "data": {
      "text/plain": [
       "SingleAPIResponse[TypeVar](data=[], count=None)"
      ]
     },
     "execution_count": 13,
     "metadata": {},
     "output_type": "execute_result"
    }
   ],
   "source": [
    "# Delete the specific row from prime_ready.companies - impacts the webcontent table and removes all entries with the same company_id\n",
    "target_url = \"https://northlightai.com\"\n",
    "\n",
    "# Call the RPC to delete\n",
    "supabase.rpc(\"delete_company_by_url\", {\n",
    "    \"target_url\": target_url\n",
    "}).execute()\n"
   ]
  },
  {
   "cell_type": "markdown",
   "id": "320df60e",
   "metadata": {},
   "source": [
    "### > Scrape one sample website through its sitemap and store in vectore database"
   ]
  },
  {
   "cell_type": "code",
   "execution_count": 39,
   "id": "3a0ee5bc",
   "metadata": {},
   "outputs": [
    {
     "name": "stdout",
     "output_type": "stream",
     "text": [
      "Openai API key successfully imported from .env file.\n"
     ]
    },
    {
     "name": "stderr",
     "output_type": "stream",
     "text": [
      "Scraping & indexing (Northlight AI): 100%|██████████| 34/34 [00:30<00:00,  1.13link/s]\n"
     ]
    }
   ],
   "source": [
    "from langchain_text_splitters import RecursiveCharacterTextSplitter\n",
    "from langchain_openai import OpenAIEmbeddings\n",
    "from langchain.chat_models import init_chat_model\n",
    "from langchain_community.vectorstores import SupabaseVectorStore\n",
    "from supabase import create_client, Client\n",
    "from tqdm import tqdm\n",
    "import json\n",
    "import getpass\n",
    "import os\n",
    "import dotenv\n",
    "# Load environment variables from .env file\n",
    "dotenv.load_dotenv()\n",
    "\n",
    "if not os.environ.get(\"OPENAI_API_KEY\"):\n",
    "  os.environ[\"OPENAI_API_KEY\"] = getpass.getpass(\"Enter API key for OpenAI: \")\n",
    "else:\n",
    "  print(f\"Openai API key successfully imported from .env file.\")\n",
    "  #print(f\"Key: {os.environ.get('OPENAI_API_KEY')}\")\n",
    "\n",
    "supabase_url = os.environ.get(\"SUPABASE_URL\")\n",
    "supabase_key = os.environ.get(\"SUPABASE_SERVICE_KEY\")\n",
    "supabase: Client = create_client(supabase_url, supabase_key)\n",
    "\n",
    "embeddings = OpenAIEmbeddings(model=\"text-embedding-3-large\")\n",
    "\n",
    "llm = init_chat_model(\"gpt-4o-mini\", model_provider=\"openai\")\n",
    "\n",
    "vector_store = SupabaseVectorStore(\n",
    "    client=supabase,\n",
    "    embedding=embeddings,\n",
    "    table_name=\"prime_ready.webcontent\",  # You can change this\n",
    "    query_name=\"match_documents\"  # Needs to be created in Supabase SQL\n",
    ")\n",
    "\n",
    "def RAG_scraper_loader(company_name, website):\n",
    "\n",
    "    # delete company data from the database (both tables) - to avoid outdated data the entire company data is removed from both tables\n",
    "    supabase.rpc(\"delete_company_by_url\", {\n",
    "        \"target_url\": website\n",
    "    }).execute()\n",
    "\n",
    "    # Extract sitemap URLs\n",
    "    url_list, tree = extract_final_urls(website)\n",
    "    \n",
    "    # Add company into company table in Supabase\n",
    "    company_id = supabase.rpc(\"insert_company\", {\n",
    "        \"company_name\": company_name,\n",
    "        \"link\": website,  # ✅ must match SQL function param name\n",
    "        \"sitemap\": json.dumps(tree)  # Add the sitemap data\n",
    "\n",
    "    }).execute().data\n",
    "    \n",
    "    \n",
    "\n",
    "    for link in tqdm(url_list, desc=f\"Scraping & indexing ({company_name})\", unit=\"link\"):\n",
    "        # Scrape the URL\n",
    "        text = scrape(link)\n",
    "        if not text.strip():\n",
    "            continue  # skip empty pages\n",
    "\n",
    "        # Create metadata and document content\n",
    "        metadata={\n",
    "                \"source\": str(link),\n",
    "                \"website\": str(website),\n",
    "                \"company_id\": str(company_id)\n",
    "            }\n",
    "\n",
    "        docs = Document(\n",
    "            page_content=text,\n",
    "            metadata=metadata\n",
    "        )\n",
    "        \n",
    "        # Chunking\n",
    "        text_splitter = RecursiveCharacterTextSplitter(chunk_size=4000, chunk_overlap=500)\n",
    "        chunks = text_splitter.split_documents([docs])\n",
    "\n",
    "        # Index chunks and store in Supabase\n",
    "        for chunk in chunks:\n",
    "            # Generate embedding\n",
    "            vector = embeddings.embed_query(chunk.page_content)\n",
    "\n",
    "            # Insert into Supabase\n",
    "            supabase.rpc(\"insert_webcontent\", {\n",
    "                \"company_id\": company_id,\n",
    "                \"source\": link,\n",
    "                \"content\": chunk.page_content,\n",
    "                \"metadata\": metadata,\n",
    "                \"embedding\": vector  # list of floats; pgvector input accepted here\n",
    "            }).execute()\n",
    "\n",
    "company_name = \"Northlight AI\"\n",
    "website = \"https://northlightai.com\"\n",
    "RAG_scraper_loader(company_name, website)"
   ]
  },
  {
   "cell_type": "code",
   "execution_count": 40,
   "id": "306904e9",
   "metadata": {},
   "outputs": [
    {
     "name": "stdout",
     "output_type": "stream",
     "text": [
      "Number of clients: 58\n",
      "8118a436-db59-4bf6-a809-536b9a1fac75 | Microsembly, LLC | https://www.microsembly.com/\n",
      "497b5cf6-307f-4769-bf31-547aa5edc781 | GPD Optoelectronics Corp | https://www.gpd-ir.com/\n",
      "cb81196c-67a7-4ab3-83dd-c051d93571c7 | SMRT | https://www.smrt.com.sg/\n",
      "7a6b75be-8d55-429d-90af-301c04404e25 | MJ Technical Solutions | https://mjtsolns.com/\n",
      "33581e6d-05cb-4d54-b633-c74219e97d3c | Vibrac | https://www.vibrac.com/\n"
     ]
    }
   ],
   "source": [
    "# NHADC Clients\n",
    "response = supabase.rpc(\"get_all_nhadc_clients\").execute()\n",
    "\n",
    "clients = response.data  # A list of dicts with keys: id, company_name, url\n",
    "print(f\"Number of clients: {len(clients)}\")\n",
    "\n",
    "for client in clients[:5]:  # Print the first 10 clients\n",
    "    print(f\"{client['id']} | {client['company_name']} | {client['url']}\")\n"
   ]
  },
  {
   "cell_type": "markdown",
   "id": "4ddcf70f",
   "metadata": {},
   "source": [
    "## Step 2) Retrieval and Generation"
   ]
  },
  {
   "cell_type": "markdown",
   "id": "286a82b7",
   "metadata": {},
   "source": [
    "### Prompts"
   ]
  },
  {
   "cell_type": "code",
   "execution_count": 62,
   "id": "e1ba7c84",
   "metadata": {},
   "outputs": [
    {
     "name": "stdout",
     "output_type": "stream",
     "text": [
      "You are an assistant for question-answering tasks. Use the following pieces of retrieved context to answer the question. If you don't know the answer, just say that you don't know. Use three sentences maximum and keep the answer concise.\n",
      "Question: (question goes here) \n",
      "Context: (context goes here) \n",
      "Answer:\n",
      "Use the following pieces of context to answer the question at the end.\n",
      "If you don't know the answer, just say that you don't know, don't try to make up an answer.\n",
      "Use five sentences maximum and keep the answer as concise as possible.\n",
      "Always start the answer with a sentence like \"Thanks for asking question about North Light AI!\"; but be innovative and each time use a similar welcoming message.\n",
      "\n",
      "(context goes here)\n",
      "\n",
      "Question: (question goes here)\n",
      "\n",
      "Helpful Answer:\n"
     ]
    },
    {
     "data": {
      "image/png": "[encoded data removed]",
      "text/plain": [
       "<IPython.core.display.Image object>"
      ]
     },
     "metadata": {},
     "output_type": "display_data"
    }
   ],
   "source": [
    "from langchain import hub\n",
    "from langchain_core.prompts import PromptTemplate\n",
    "from langchain_core.documents import Document\n",
    "from typing_extensions import List, TypedDict\n",
    "from langgraph.graph import START, StateGraph\n",
    "from IPython.display import Image, display\n",
    "\n",
    "## Prompt - predefined\n",
    "prompt = hub.pull(\"rlm/rag-prompt\")\n",
    "\n",
    "example_messages = prompt.invoke(\n",
    "    {\"context\": \"(context goes here)\", \"question\": \"(question goes here)\"}\n",
    ").to_messages()\n",
    "\n",
    "assert len(example_messages) == 1\n",
    "print(example_messages[0].content)\n",
    "\n",
    "\n",
    "## Prompt - custom\n",
    "template = \"\"\"Use the following pieces of context to answer the question at the end.\n",
    "If you don't know the answer, just say that you don't know, don't try to make up an answer.\n",
    "Use five sentences maximum and keep the answer as concise as possible.\n",
    "Always start the answer with a sentence like \"Thanks for asking question about North Light AI!\"; but be innovative and each time use a similar welcoming message.\n",
    "\n",
    "{context}\n",
    "\n",
    "Question: {question}\n",
    "\n",
    "Helpful Answer:\"\"\"\n",
    "prompt = PromptTemplate.from_template(template)\n",
    "\n",
    "example_messages = prompt.invoke(\n",
    "    {\"context\": \"(context goes here)\", \"question\": \"(question goes here)\"}\n",
    ").to_messages()\n",
    "\n",
    "assert len(example_messages) == 1\n",
    "print(example_messages[0].content)\n",
    "\n",
    "## State\n",
    "class State(TypedDict):\n",
    "    question: str\n",
    "    context: List[Document]\n",
    "    answer: str\n",
    "\n",
    "## Nodes\n",
    "def retrieve(state: State):\n",
    "    retrieved_docs = vector_store.similarity_search(state[\"question\"])\n",
    "    return {\"context\": retrieved_docs}\n",
    "\n",
    "\n",
    "def generate(state: State):\n",
    "    docs_content = \"\\n\\n\".join(doc.page_content for doc in state[\"context\"])\n",
    "    messages = prompt.invoke({\"question\": state[\"question\"], \"context\": docs_content})\n",
    "    response = llm.invoke(messages)\n",
    "    return {\"answer\": response.content}\n",
    "\n",
    "## Control flow\n",
    "\n",
    "\n",
    "graph_builder = StateGraph(State).add_sequence([retrieve, generate])\n",
    "graph_builder.add_edge(START, \"retrieve\")\n",
    "graph = graph_builder.compile()\n",
    "\n",
    "# Visualize the graph\n",
    "display(Image(graph.get_graph().draw_mermaid_png()))"
   ]
  },
  {
   "cell_type": "markdown",
   "id": "fc6bb800",
   "metadata": {},
   "source": [
    "### Usage"
   ]
  },
  {
   "cell_type": "code",
   "execution_count": 65,
   "id": "4f16002e",
   "metadata": {},
   "outputs": [
    {
     "name": "stdout",
     "output_type": "stream",
     "text": [
      "Context: [Document(metadata={'source': 'https://northlightai.com/our-team', 'website': 'https://northlightai.com', 'company_id': '8de75db1-323c-4bf4-8693-05a657d3a474'}, page_content=\"of expertise in data analytics, business intelligence, and AI-driven decision-making. With an extensive academic background and professional experience, Dr. Gwebu has dedicated his career to helping organizations harness the power of data and AI to drive innovation and operational efficiency. At North Light AI, he plays a key role in designing and delivering impactful AI solutions and training programs that empower businesses and individuals to thrive in the digital age. Dr. Gwebu's commitment to ethical AI and practical applications ensures that the technology is both transformative and responsible. Show Less Dr. Roozbeh Ghasemi - Lead Data & AI Analyst Dr. Roozbeh Ghasemi - Lead Data & AI Analyst Dr. Roozbeh Ghasemi - Lead Data & AI Analyst Dr. Roozbeh Ghasemi is a multidisciplinary researcher and Ph.D. candidate in Civil and Environmental Engineering at the University of New Hampshire, with an MBA in Information Systems and Business Analytics. His expertise spans machine learning, artificial intelligence, system dynamics modeling, and life cycle assessment, with a focus on Show More Dr. Roozbeh Ghasemi is a multidisciplinary researcher and Ph.D. candidate in Civil and Environmental Engineering at the University of New Hampshire, with an MBA in Information Systems and Business Analytics. His expertise spans machine learning, artificial intelligence, system dynamics modeling, and life cycle assessment, with a focus on sustainable energy systems and environmental engineering. Roozbeh's diverse background, which includes professional experience in engineering supervision and project management, coupled with his academic achievements and research in areas such as microgrid optimization and solar PV adoption, demonstrates his ability to bridge theoretical concepts with practical applications in the field of sustainable technology and environmental systems. Show Less 2024 / 2025 Student intern Team Poojaa Prakash Babu Poojaa Prakash Babu Poojaa Prakash Babu Trinity University - Engineering Poojaa Prakash Babu is an engineering student at Trinity \\xa0College, specializing in Biomedical Engineering with a minor in Formal Organizations. She has demonstrated her expertise through internships at \\xa0Hartford Steam Boiler and Anunta, where she enhanced operational \\xa0efficiency using AI and data governance. Poojaa is also a leader in the South Asian Student Association, promoting cultural awareness through \\xa0major events. Her skills in languages and software, including Python and \\xa0MATLAB, complement her academic and professional achievements Praneet Nadar Poojaa Prakash Babu Poojaa Prakash Babu University of North Texas - Computer Sciences Praneet Nadar, a recent graduate from the University of North \\xa0Texas with a Bachelor of Science in Computer Engineering, is passionate \\xa0about software and hardware design. With a GPA of 3.6, Praneet has honed \\xa0skills in programming languages like C++, Python, and Verilog, and has \\xa0practical experience with FPGA and ASIC design verification. His \\xa0projects, such as developing a sign language glove and a speed reporting \\xa0system, showcase his ability to innovate and solve complex engineering \\xa0challenges. Praneet's interests in technology and aerospace, combined \\xa0with his collaborative and problem-solving skills, position him as a \\xa0promising engineer ready to contribute to cutting-edge projects. Hassan Beila Poojaa Prakash Babu Sauel Almonte Illinois Institute of Technology - PhD Management Science Hassan Beila is a dedicated data scientist in-training pursuing a Ph.D. in Management Science at Illinois Institute of Technology. With a strong background in statistical modeling, database management, and data visualization, Hassan excels in conducting investigative analysis and creating informative dashboards using tools like SAS, Tableau, and MS SQL Server. His diverse experiences, including roles as a Ph.D. Research Assistant and Graduate Administrative Assistant, showcase his ability to apply analytical skills to\"), Document(metadata={'source': 'https://northlightai.com/our-team', 'website': 'https://northlightai.com', 'company_id': '8de75db1-323c-4bf4-8693-05a657d3a474'}, page_content=\"Our Team Home Our Services AI Training & Development AI Literacy Sponsorships AI Strategic Consulting About Our Work Our Team North Light Values AI Innovation Lab Partnerships Our Customers Higher Education Resources FAQ Publications Sign In Create Account My Account Signed in as: filler@godaddy.com My Account Sign out Signed in as: filler@godaddy.com Home Our Services AI Training & Development AI Literacy Sponsorships AI Strategic Consulting About Our Work Our Team North Light Values AI Innovation Lab Partnerships Our Customers Higher Education Resources FAQ Publications Account My Account Sign out Sign In My Account The North Light Team Andrew Mitchell - Founder & President Dr. Roozbeh Ghasemi - Lead Data & AI Analyst Peter Zaimes - Chair of Advisory Board Andrew Mitchell is a strategic leader and innovator, currently Co-Founding North Light AI to build a collaborative Innovation Lab focused on practical AI adoption across industry and academia. His leadership roles, including Associate Director at UNH's Center for Business Analytics, showcase his ability to leverage AI tools for real-worl Show More Andrew Mitchell is a strategic leader and innovator, currently Co-Founding North Light AI to build a collaborative Innovation Lab focused on practical AI adoption across industry and academia. His leadership roles, including Associate Director at UNH's Center for Business Analytics, showcase his ability to leverage AI tools for real-world challenges and implement innovative solutions across diverse industries. Andrew's strategic vision and passion for harnessing AI to create tangible impacts, particularly for small to medium-sized organizations, demonstrate his capacity for driving efficiency, innovation, and business growth in today's dynamic digital landscape. Show Less Peter Zaimes - Chair of Advisory Board Dr. Roozbeh Ghasemi - Lead Data & AI Analyst Peter Zaimes - Chair of Advisory Board Peter Zaimes is a multifaceted professional straddling the worlds of higher education and business, currently serving as a Lecturer and Founder of the UNH Sports Analytics Lab at the University of New Hampshire's Peter T. Paul College of Business and Economics. With extensive experience in business leadership, including roles as Managing Show More Peter Zaimes is a multifaceted professional straddling the worlds of higher education and business, currently serving as a Lecturer and Founder of the UNH Sports Analytics Lab at the University of New Hampshire's Peter T. Paul College of Business and Economics. With extensive experience in business leadership, including roles as Managing Director at Technology Business Research and CFO at Oceanside Physical Therapy, Peter brings a wealth of practical knowledge to his academic pursuits. His expertise spans data analytics, business strategy, and sports analytics, demonstrating a unique ability to bridge theoretical concepts with real-world applications in both educational and corporate settings. Show Less Dr. Khole Gwebu - Chief Innovation Officer Dr. Roozbeh Ghasemi - Lead Data & AI Analyst Dr. Roozbeh Ghasemi - Lead Data & AI Analyst Dr. Khole Gwebu brings a wealth of expertise in data analytics, business intelligence, and AI-driven decision-making. With an extensive academic background and professional experience, Dr. Gwebu has dedicated his career to helping organizations harness the power of data and AI to drive innovation and operational efficiency. At North Light Show More Dr. Khole Gwebu brings a wealth of expertise in data analytics, business intelligence, and AI-driven decision-making. With an extensive academic background and professional experience, Dr. Gwebu has dedicated his career to helping organizations harness the power of data and AI to drive innovation and operational efficiency. At North Light AI, he plays a key role in designing and delivering impactful AI solutions and training programs that empower businesses and individuals to thrive in the digital age. Dr. Gwebu's commitment\"), Document(metadata={'source': 'https://northlightai.com/our-team', 'website': 'https://northlightai.com', 'company_id': '8de75db1-323c-4bf4-8693-05a657d3a474'}, page_content=\"data scientist in-training pursuing a Ph.D. in Management Science at Illinois Institute of Technology. With a strong background in statistical modeling, database management, and data visualization, Hassan excels in conducting investigative analysis and creating informative dashboards using tools like SAS, Tableau, and MS SQL Server. His diverse experiences, including roles as a Ph.D. Research Assistant and Graduate Administrative Assistant, showcase his ability to apply analytical skills to real-world problems, collaborate with diverse teams, and communicate complex findings to both technical and non-technical audiences. Sauel Almonte Sauel Almonte Sauel Almonte Bunker Hill Community College - Computer Science Sauel Almonte is a highly skilled Full Stack Developer and Software Engineer with a strong foundation in computer science and hands-on experience in web development. His diverse roles, including Resident Coach/Mentor at MSIMBO Tech Academy and Software Engineer Intern at Wayfair, showcase his ability to lead projects, optimize software architecture, and implement best practices in software development. Sauel's passion for leveraging technology to solve complex problems, coupled with his proven track record of enhancing efficiency and functionality in various projects, demonstrates his potential to make significant contributions in innovative and dynamic tech environments. Bupesh Kumar Sauel Almonte Bupesh Kumar Northeastern University - Master's of Data Science Bupesh Kumar is a Data Science Master's student at Northeastern University with a passion for AI, machine learning, and content creation. His experience spans developing AI models, conducting data analysis, and collaborating on research projects. Bupesh excels at translating complex insights into accessible formats through visualizations. Proficient in tools like TensorFlow, PyTorch, and AWS, he delivers data-driven solutions with enthusiasm. Bupesh's strategic thinking is further honed by his love for chess, while his creative side shines through his interest in photography. UNH Computer Science Department - Senior Capstone Our Mission Bing Yi Liu, Justin Evanza. and Ambrose O'Neil (Pictured) are completing their Senior Capstone Project with North Light AI. Duringthe 2024/2025 Academic Year, these students will help us launch our Generative AI Innovation Lab, which strives to create a space where students and industry come together to learn AI safely and ethically. Student Founder-in-Residence Arthur Murphy - University of New Hampshire Arthur Murphy is a sophomore at the University of New Hampshire who has founded his own company, Quick Query AI, a chatbot company designed for local governments and municipalities to better engage and support their citizens. In the 2024/2025 Academic Year, he'll work with North Light AI to build his business and begin pitching to investors. 2024 - 2025 Advisory Board The Advisory Board was established to provide strategic guidance, industry expertise, and support to North Light AI in its mission to drive innovation and deliver transformative AI solutions. The board offers insights, advice, and connections to help us navigate the complex landscape and achieve sustainable growth. Copyright © 2025 North Light AI - All Rights Reserved. Higher Ed Solutions Our Team Powered by This website uses cookies. We use cookies to analyze website traffic and optimize your website experience. By accepting our use of cookies, your data will be aggregated with all other user data. Accept\"), Document(metadata={'source': 'https://northlightai.com/publications/f/nvidia-rendered-the-radioactive-star', 'website': 'https://northlightai.com', 'company_id': '8de75db1-323c-4bf4-8693-05a657d3a474'}, page_content='NVIDIA Rendered the Radioactive Star Home Our Services AI Training & Development AI Literacy Sponsorships AI Strategic Consulting About Our Work Our Team North Light Values AI Innovation Lab Partnerships Our Customers Higher Education Resources FAQ Publications Sign In Create Account My Account Signed in as: filler@godaddy.com My Account Sign out Signed in as: filler@godaddy.com Home Our Services AI Training & Development AI Literacy Sponsorships AI Strategic Consulting About Our Work Our Team North Light Values AI Innovation Lab Partnerships Our Customers Higher Education Resources FAQ Publications Account My Account Sign out Sign In My Account Newsletters The Hired Edge A once-per-week newsletter with a simple goal: Equip university students with clear, practical knowledge, tools, and opportunities \\xa0for career and professional development. Read / Subscribe The Lightwave Concise, bite-sized explanations of a specific AI concept or application – all in about two minutes of reading time . Read / Subscribe Other Articles Copyright © 2025 North Light AI - All Rights Reserved. Higher Ed Solutions Our Team Powered by This website uses cookies. We use cookies to analyze website traffic and optimize your website experience. By accepting our use of cookies, your data will be aggregated with all other user data. Accept')]\n",
      "\n",
      "\n",
      "Answer: Thanks for inquiring about Dr. Roozbeh Ghasemi at North Light AI! He is the Lead Data & AI Analyst, currently pursuing a Ph.D. in Civil and Environmental Engineering at the University of New Hampshire. With an MBA in Information Systems and Business Analytics, Dr. Ghasemi specializes in machine learning, AI, and sustainable energy systems. His work focuses on bridging theoretical concepts with practical applications in engineering and environmental systems. His diverse background and research contribute significantly to the innovative projects at North Light AI.\n"
     ]
    }
   ],
   "source": [
    "result = graph.invoke({\"question\": \"Who is Dr. Roozbeh Ghasemi?\"})\n",
    "\n",
    "print(f'Context: {result[\"context\"]}\\n\\n')\n",
    "print(f'Answer: {result[\"answer\"]}')"
   ]
  },
  {
   "cell_type": "markdown",
   "id": "cadeb56b",
   "metadata": {},
   "source": [
    "### Stream steps and tokens"
   ]
  },
  {
   "cell_type": "code",
   "execution_count": 59,
   "id": "85f22d1c",
   "metadata": {},
   "outputs": [
    {
     "name": "stdout",
     "output_type": "stream",
     "text": [
      "{'retrieve': {'context': [Document(metadata={'source': 'https://northlightai.com/our-team', 'website': 'https://northlightai.com', 'company_id': '8de75db1-323c-4bf4-8693-05a657d3a474'}, page_content=\"of expertise in data analytics, business intelligence, and AI-driven decision-making. With an extensive academic background and professional experience, Dr. Gwebu has dedicated his career to helping organizations harness the power of data and AI to drive innovation and operational efficiency. At North Light AI, he plays a key role in designing and delivering impactful AI solutions and training programs that empower businesses and individuals to thrive in the digital age. Dr. Gwebu's commitment to ethical AI and practical applications ensures that the technology is both transformative and responsible. Show Less Dr. Roozbeh Ghasemi - Lead Data & AI Analyst Dr. Roozbeh Ghasemi - Lead Data & AI Analyst Dr. Roozbeh Ghasemi - Lead Data & AI Analyst Dr. Roozbeh Ghasemi is a multidisciplinary researcher and Ph.D. candidate in Civil and Environmental Engineering at the University of New Hampshire, with an MBA in Information Systems and Business Analytics. His expertise spans machine learning, artificial intelligence, system dynamics modeling, and life cycle assessment, with a focus on Show More Dr. Roozbeh Ghasemi is a multidisciplinary researcher and Ph.D. candidate in Civil and Environmental Engineering at the University of New Hampshire, with an MBA in Information Systems and Business Analytics. His expertise spans machine learning, artificial intelligence, system dynamics modeling, and life cycle assessment, with a focus on sustainable energy systems and environmental engineering. Roozbeh's diverse background, which includes professional experience in engineering supervision and project management, coupled with his academic achievements and research in areas such as microgrid optimization and solar PV adoption, demonstrates his ability to bridge theoretical concepts with practical applications in the field of sustainable technology and environmental systems. Show Less 2024 / 2025 Student intern Team Poojaa Prakash Babu Poojaa Prakash Babu Poojaa Prakash Babu Trinity University - Engineering Poojaa Prakash Babu is an engineering student at Trinity \\xa0College, specializing in Biomedical Engineering with a minor in Formal Organizations. She has demonstrated her expertise through internships at \\xa0Hartford Steam Boiler and Anunta, where she enhanced operational \\xa0efficiency using AI and data governance. Poojaa is also a leader in the South Asian Student Association, promoting cultural awareness through \\xa0major events. Her skills in languages and software, including Python and \\xa0MATLAB, complement her academic and professional achievements Praneet Nadar Poojaa Prakash Babu Poojaa Prakash Babu University of North Texas - Computer Sciences Praneet Nadar, a recent graduate from the University of North \\xa0Texas with a Bachelor of Science in Computer Engineering, is passionate \\xa0about software and hardware design. With a GPA of 3.6, Praneet has honed \\xa0skills in programming languages like C++, Python, and Verilog, and has \\xa0practical experience with FPGA and ASIC design verification. His \\xa0projects, such as developing a sign language glove and a speed reporting \\xa0system, showcase his ability to innovate and solve complex engineering \\xa0challenges. Praneet's interests in technology and aerospace, combined \\xa0with his collaborative and problem-solving skills, position him as a \\xa0promising engineer ready to contribute to cutting-edge projects. Hassan Beila Poojaa Prakash Babu Sauel Almonte Illinois Institute of Technology - PhD Management Science Hassan Beila is a dedicated data scientist in-training pursuing a Ph.D. in Management Science at Illinois Institute of Technology. With a strong background in statistical modeling, database management, and data visualization, Hassan excels in conducting investigative analysis and creating informative dashboards using tools like SAS, Tableau, and MS SQL Server. His diverse experiences, including roles as a Ph.D. Research Assistant and Graduate Administrative Assistant, showcase his ability to apply analytical skills to\"), Document(metadata={'source': 'https://northlightai.com/our-team', 'website': 'https://northlightai.com', 'company_id': '8de75db1-323c-4bf4-8693-05a657d3a474'}, page_content=\"Our Team Home Our Services AI Training & Development AI Literacy Sponsorships AI Strategic Consulting About Our Work Our Team North Light Values AI Innovation Lab Partnerships Our Customers Higher Education Resources FAQ Publications Sign In Create Account My Account Signed in as: filler@godaddy.com My Account Sign out Signed in as: filler@godaddy.com Home Our Services AI Training & Development AI Literacy Sponsorships AI Strategic Consulting About Our Work Our Team North Light Values AI Innovation Lab Partnerships Our Customers Higher Education Resources FAQ Publications Account My Account Sign out Sign In My Account The North Light Team Andrew Mitchell - Founder & President Dr. Roozbeh Ghasemi - Lead Data & AI Analyst Peter Zaimes - Chair of Advisory Board Andrew Mitchell is a strategic leader and innovator, currently Co-Founding North Light AI to build a collaborative Innovation Lab focused on practical AI adoption across industry and academia. His leadership roles, including Associate Director at UNH's Center for Business Analytics, showcase his ability to leverage AI tools for real-worl Show More Andrew Mitchell is a strategic leader and innovator, currently Co-Founding North Light AI to build a collaborative Innovation Lab focused on practical AI adoption across industry and academia. His leadership roles, including Associate Director at UNH's Center for Business Analytics, showcase his ability to leverage AI tools for real-world challenges and implement innovative solutions across diverse industries. Andrew's strategic vision and passion for harnessing AI to create tangible impacts, particularly for small to medium-sized organizations, demonstrate his capacity for driving efficiency, innovation, and business growth in today's dynamic digital landscape. Show Less Peter Zaimes - Chair of Advisory Board Dr. Roozbeh Ghasemi - Lead Data & AI Analyst Peter Zaimes - Chair of Advisory Board Peter Zaimes is a multifaceted professional straddling the worlds of higher education and business, currently serving as a Lecturer and Founder of the UNH Sports Analytics Lab at the University of New Hampshire's Peter T. Paul College of Business and Economics. With extensive experience in business leadership, including roles as Managing Show More Peter Zaimes is a multifaceted professional straddling the worlds of higher education and business, currently serving as a Lecturer and Founder of the UNH Sports Analytics Lab at the University of New Hampshire's Peter T. Paul College of Business and Economics. With extensive experience in business leadership, including roles as Managing Director at Technology Business Research and CFO at Oceanside Physical Therapy, Peter brings a wealth of practical knowledge to his academic pursuits. His expertise spans data analytics, business strategy, and sports analytics, demonstrating a unique ability to bridge theoretical concepts with real-world applications in both educational and corporate settings. Show Less Dr. Khole Gwebu - Chief Innovation Officer Dr. Roozbeh Ghasemi - Lead Data & AI Analyst Dr. Roozbeh Ghasemi - Lead Data & AI Analyst Dr. Khole Gwebu brings a wealth of expertise in data analytics, business intelligence, and AI-driven decision-making. With an extensive academic background and professional experience, Dr. Gwebu has dedicated his career to helping organizations harness the power of data and AI to drive innovation and operational efficiency. At North Light Show More Dr. Khole Gwebu brings a wealth of expertise in data analytics, business intelligence, and AI-driven decision-making. With an extensive academic background and professional experience, Dr. Gwebu has dedicated his career to helping organizations harness the power of data and AI to drive innovation and operational efficiency. At North Light AI, he plays a key role in designing and delivering impactful AI solutions and training programs that empower businesses and individuals to thrive in the digital age. Dr. Gwebu's commitment\"), Document(metadata={'source': 'https://northlightai.com/our-team', 'website': 'https://northlightai.com', 'company_id': '8de75db1-323c-4bf4-8693-05a657d3a474'}, page_content=\"data scientist in-training pursuing a Ph.D. in Management Science at Illinois Institute of Technology. With a strong background in statistical modeling, database management, and data visualization, Hassan excels in conducting investigative analysis and creating informative dashboards using tools like SAS, Tableau, and MS SQL Server. His diverse experiences, including roles as a Ph.D. Research Assistant and Graduate Administrative Assistant, showcase his ability to apply analytical skills to real-world problems, collaborate with diverse teams, and communicate complex findings to both technical and non-technical audiences. Sauel Almonte Sauel Almonte Sauel Almonte Bunker Hill Community College - Computer Science Sauel Almonte is a highly skilled Full Stack Developer and Software Engineer with a strong foundation in computer science and hands-on experience in web development. His diverse roles, including Resident Coach/Mentor at MSIMBO Tech Academy and Software Engineer Intern at Wayfair, showcase his ability to lead projects, optimize software architecture, and implement best practices in software development. Sauel's passion for leveraging technology to solve complex problems, coupled with his proven track record of enhancing efficiency and functionality in various projects, demonstrates his potential to make significant contributions in innovative and dynamic tech environments. Bupesh Kumar Sauel Almonte Bupesh Kumar Northeastern University - Master's of Data Science Bupesh Kumar is a Data Science Master's student at Northeastern University with a passion for AI, machine learning, and content creation. His experience spans developing AI models, conducting data analysis, and collaborating on research projects. Bupesh excels at translating complex insights into accessible formats through visualizations. Proficient in tools like TensorFlow, PyTorch, and AWS, he delivers data-driven solutions with enthusiasm. Bupesh's strategic thinking is further honed by his love for chess, while his creative side shines through his interest in photography. UNH Computer Science Department - Senior Capstone Our Mission Bing Yi Liu, Justin Evanza. and Ambrose O'Neil (Pictured) are completing their Senior Capstone Project with North Light AI. Duringthe 2024/2025 Academic Year, these students will help us launch our Generative AI Innovation Lab, which strives to create a space where students and industry come together to learn AI safely and ethically. Student Founder-in-Residence Arthur Murphy - University of New Hampshire Arthur Murphy is a sophomore at the University of New Hampshire who has founded his own company, Quick Query AI, a chatbot company designed for local governments and municipalities to better engage and support their citizens. In the 2024/2025 Academic Year, he'll work with North Light AI to build his business and begin pitching to investors. 2024 - 2025 Advisory Board The Advisory Board was established to provide strategic guidance, industry expertise, and support to North Light AI in its mission to drive innovation and deliver transformative AI solutions. The board offers insights, advice, and connections to help us navigate the complex landscape and achieve sustainable growth. Copyright © 2025 North Light AI - All Rights Reserved. Higher Ed Solutions Our Team Powered by This website uses cookies. We use cookies to analyze website traffic and optimize your website experience. By accepting our use of cookies, your data will be aggregated with all other user data. Accept\"), Document(metadata={'source': 'https://northlightai.com/publications/f/nvidia-rendered-the-radioactive-star', 'website': 'https://northlightai.com', 'company_id': '8de75db1-323c-4bf4-8693-05a657d3a474'}, page_content='NVIDIA Rendered the Radioactive Star Home Our Services AI Training & Development AI Literacy Sponsorships AI Strategic Consulting About Our Work Our Team North Light Values AI Innovation Lab Partnerships Our Customers Higher Education Resources FAQ Publications Sign In Create Account My Account Signed in as: filler@godaddy.com My Account Sign out Signed in as: filler@godaddy.com Home Our Services AI Training & Development AI Literacy Sponsorships AI Strategic Consulting About Our Work Our Team North Light Values AI Innovation Lab Partnerships Our Customers Higher Education Resources FAQ Publications Account My Account Sign out Sign In My Account Newsletters The Hired Edge A once-per-week newsletter with a simple goal: Equip university students with clear, practical knowledge, tools, and opportunities \\xa0for career and professional development. Read / Subscribe The Lightwave Concise, bite-sized explanations of a specific AI concept or application – all in about two minutes of reading time . Read / Subscribe Other Articles Copyright © 2025 North Light AI - All Rights Reserved. Higher Ed Solutions Our Team Powered by This website uses cookies. We use cookies to analyze website traffic and optimize your website experience. By accepting our use of cookies, your data will be aggregated with all other user data. Accept')]}}\n",
      "\n",
      "----------------\n",
      "\n",
      "{'generate': {'answer': \"Dr. Roozbeh Ghasemi is a Lead Data & AI Analyst and a Ph.D. candidate in Civil and Environmental Engineering at the University of New Hampshire. He holds an MBA in Information Systems and Business Analytics, with expertise in machine learning, artificial intelligence, and sustainable energy systems. His research focuses on areas such as microgrid optimization and solar PV adoption, merging theoretical concepts with practical applications. Dr. Ghasemi's background includes engineering supervision and project management. Thanks for asking!\"}}\n",
      "\n",
      "----------------\n",
      "\n",
      "|Dr|.| Roo|z|beh| G|has|emi| is| a| Lead| Data| &| AI| Analyst| and| a| Ph|.D|.| candidate| in| Civil| and| Environmental| Engineering| at| the| University| of| New| Hampshire|.| He| holds| an| MBA| in| Information| Systems| and| Business| Analytics|,| with| expertise| in| machine| learning|,| artificial| intelligence|,| and| sustainable| energy| systems|.| His| diverse| background| includes| engineering| supervision| and| project| management|,| focusing| on| practical| applications| in| sustainable| technology|.| Dr|.| G|has|emi|'s| research| involves| areas| like| micro|grid| optimization| and| solar| photovoltaic| adoption|.| Thanks| for| asking|!||"
     ]
    }
   ],
   "source": [
    "for step in graph.stream(\n",
    "    {\"question\": \"Who is Dr. Roozbeh Ghasemi?\"}, stream_mode=\"updates\"\n",
    "):\n",
    "    print(f\"{step}\\n\\n----------------\\n\")\n",
    "\n",
    "for message, metadata in graph.stream(\n",
    "    {\"question\": \"Who is Dr. Roozbeh Ghasemi?\"}, stream_mode=\"messages\"\n",
    "):\n",
    "    print(message.content, end=\"|\")"
   ]
  }
 ],
 "metadata": {
  "kernelspec": {
   "display_name": ".venv",
   "language": "python",
   "name": "python3"
  },
  "language_info": {
   "codemirror_mode": {
    "name": "ipython",
    "version": 3
   },
   "file_extension": ".py",
   "mimetype": "text/x-python",
   "name": "python",
   "nbconvert_exporter": "python",
   "pygments_lexer": "ipython3",
   "version": "3.13.3"
  }
 },
 "nbformat": 4,
 "nbformat_minor": 5
}
