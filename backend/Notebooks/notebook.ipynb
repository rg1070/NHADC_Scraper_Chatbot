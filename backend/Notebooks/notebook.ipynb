{
 "cells": [
  {
   "cell_type": "markdown",
   "id": "8079778f",
   "metadata": {},
   "source": [
    "# Parser"
   ]
  },
  {
   "cell_type": "code",
   "execution_count": 3,
   "id": "f83f37ec",
   "metadata": {},
   "outputs": [],
   "source": [
    "# backend/sitemap_parser.py\n",
    "from bs4 import BeautifulSoup\n",
    "import requests\n",
    "from urllib.parse import urlparse, urlunparse\n",
    "\n",
    "HEADERS = {\"User-Agent\": \"Mozilla/5.0\"}"
   ]
  },
  {
   "cell_type": "code",
   "execution_count": 4,
   "id": "152d9596",
   "metadata": {},
   "outputs": [
    {
     "name": "stdout",
     "output_type": "stream",
     "text": [
      "Normalized URL: https://www.nortlightai.com\n",
      "Normalized URL: https://www.nortlightai.com\n",
      "Normalized URL: https://www.nortlightai.com\n",
      "Normalized URL: https://www.nortlightai.com\n",
      "Normalized URL: https://www.nortlightai.com\n",
      "Normalized URL: https://www.nortlightai.com\n"
     ]
    }
   ],
   "source": [
    "def normalize_url(url: str) -> str:\n",
    "    url = url.lower().strip() # Remove leading/trailing whitespace and convert to lowercase\n",
    "    if not url.startswith(\"http\"):\n",
    "        url = \"https://\" + url\n",
    "    \n",
    "    if url.startswith(\"https://\") and not url.startswith(\"https://www.\"):\n",
    "        url = url.replace(\"https://\", \"https://www.\", 1)\n",
    "    elif not url.startswith(\"https://www.\"):\n",
    "        url = \"https://www.\" + url\n",
    "    \n",
    "    parsed = urlparse(url)\n",
    "\n",
    "    # Normalize to scheme + netloc only (strip path, params, query, fragment)\n",
    "    normalized_url = urlunparse((parsed.scheme, parsed.netloc, '', '', '', ''))\n",
    "    return normalized_url\n",
    "\n",
    "print(f\"Normalized URL: {normalize_url(\"nortlightai.com\")}\")\n",
    "print(f\"Normalized URL: {normalize_url(\"www.nortlightai.com\")}\")\n",
    "print(f\"Normalized URL: {normalize_url(\"https://www.nortlightai.com\")}\")\n",
    "print(f\"Normalized URL: {normalize_url(\"https://nortlightai.com\")}\")\n",
    "print(f\"Normalized URL: {normalize_url(\"https://nortlightai.com/\")}\")\n",
    "print(f\"Normalized URL: {normalize_url(\"https://nortlightai.com/content\")}\")"
   ]
  },
  {
   "cell_type": "code",
   "execution_count": 5,
   "id": "49de76fb",
   "metadata": {},
   "outputs": [
    {
     "name": "stdout",
     "output_type": "stream",
     "text": [
      "Fetched Sitemap: ['https://northlightai.com/sitemap.website.xml', 'https://northlightai.com/sitemap.blog.xml', 'https://northlightai.com/sitemap.ols.xml']\n",
      "Fetched Sitemap: []\n"
     ]
    }
   ],
   "source": [
    "def fetch_sitemap(url): # Fetch each xml sitemap in one layer.\n",
    "    try:\n",
    "        response = requests.get(url, headers=HEADERS, timeout=5)\n",
    "        response.raise_for_status()\n",
    "        soup = BeautifulSoup(response.content, 'lxml-xml')\n",
    "        return [loc.text for loc in soup.find_all('loc')]\n",
    "    except Exception as e:\n",
    "        print(f\"Error: {e}\")\n",
    "        return []\n",
    "print(f\"Fetched Sitemap: {fetch_sitemap('https://northlightai.com/sitemap.xml')}\") # This should receive .xml URLs\n",
    "print(f\"Fetched Sitemap: {fetch_sitemap('https://northlightai.com')}\")"
   ]
  },
  {
   "cell_type": "code",
   "execution_count": 6,
   "id": "e4a0cc05",
   "metadata": {},
   "outputs": [
    {
     "name": "stdout",
     "output_type": "stream",
     "text": [
      "Parsed Sitemap: {'https://northlightai.com/sitemap.xml': {'https://northlightai.com/sitemap.website.xml': ['https://northlightai.com/publications', 'https://northlightai.com/faq', 'https://northlightai.com/our-customers-1', 'https://northlightai.com/', 'https://northlightai.com/ai-strategic-consulting', 'https://northlightai.com/ai-innovation-lab', 'https://northlightai.com/our-team', 'https://northlightai.com/higher-education', 'https://northlightai.com/product-development', 'https://northlightai.com/north-light-values', 'https://northlightai.com/ai-training-%26-development-1', 'https://northlightai.com/technical-partners', 'https://northlightai.com/ai-literacy-sponsorships', 'https://northlightai.com/m/login', 'https://northlightai.com/m/reset', 'https://northlightai.com/m/create', 'https://northlightai.com/m/create-account'], 'https://northlightai.com/sitemap.blog.xml': ['https://northlightai.com/publications/f/north-light-ai-partners-with-unh-to-launch-affordable-ai-training', 'https://northlightai.com/publications/f/openais-new-o1-strawberry-model-released', 'https://northlightai.com/publications/f/north-light-ai-and-buzzy-join-forces-in-ai-education', 'https://northlightai.com/publications/f/microsoft-linkedin-and-the-year-of-ai', 'https://northlightai.com/publications/f/chatgpt-4o-updates-from-openai', 'https://northlightai.com/publications/f/this-week-in-ai-51324', 'https://northlightai.com/publications/f/nvidia-rendered-the-radioactive-star', 'https://northlightai.com/publications/f/secret-aigent-man', 'https://northlightai.com/publications/f/co-founder-interviewed-by-pictory-ai', 'https://northlightai.com/publications/f/prompt-engineering---a-baseline', 'https://northlightai.com/publications/f/what-is-a-token-in-chatgpt', 'https://northlightai.com/publications/f/large-language-models-llms-a-brief-overview', 'https://northlightai.com/publications/f/google-gemini', 'https://northlightai.com/publications/f/chef-ai', 'https://northlightai.com/publications/f/why-ai'], 'https://northlightai.com/sitemap.ols.xml': ['https://northlightai.com']}}\n",
      "Parsed Sitemap: {'https://northlightai.com': []}\n"
     ]
    }
   ],
   "source": [
    "def parse_sitemap(url): # Parse the sitemap and return a dictionary of URLs. Applies fetch_sitemap to each xml sitemap layer by layer.\n",
    "    locs = fetch_sitemap(url)\n",
    "    if not locs:\n",
    "        return {url: []}\n",
    "    \n",
    "    tree = {}\n",
    "    urls = []\n",
    "\n",
    "    for loc in locs:\n",
    "        if loc.endswith('.xml'):\n",
    "            tree[loc] = parse_sitemap(loc)\n",
    "        else:\n",
    "            urls.append(loc)\n",
    "\n",
    "    if tree and urls:\n",
    "        tree[\"_final_urls\"] = urls\n",
    "        return tree\n",
    "    elif urls:\n",
    "        return urls\n",
    "    else:\n",
    "        return {url: tree}\n",
    "print(f\"Parsed Sitemap: {parse_sitemap('https://northlightai.com/sitemap.xml')}\") # This should receive .xml URLs\n",
    "print(f\"Parsed Sitemap: {parse_sitemap('https://northlightai.com')}\")"
   ]
  },
  {
   "cell_type": "code",
   "execution_count": 7,
   "id": "3e457d1c",
   "metadata": {},
   "outputs": [
    {
     "name": "stdout",
     "output_type": "stream",
     "text": [
      "Final URLs: ['https://www.northlightai.com', 'https://northlightai.com/publications', 'https://northlightai.com/faq', 'https://northlightai.com/our-customers-1', 'https://northlightai.com/', 'https://northlightai.com/ai-strategic-consulting', 'https://northlightai.com/ai-innovation-lab', 'https://northlightai.com/our-team', 'https://northlightai.com/higher-education', 'https://northlightai.com/product-development', 'https://northlightai.com/north-light-values', 'https://northlightai.com/ai-training-%26-development-1', 'https://northlightai.com/technical-partners', 'https://northlightai.com/ai-literacy-sponsorships', 'https://northlightai.com/m/login', 'https://northlightai.com/m/reset', 'https://northlightai.com/m/create', 'https://northlightai.com/m/create-account', 'https://northlightai.com/publications/f/north-light-ai-partners-with-unh-to-launch-affordable-ai-training', 'https://northlightai.com/publications/f/openais-new-o1-strawberry-model-released', 'https://northlightai.com/publications/f/north-light-ai-and-buzzy-join-forces-in-ai-education', 'https://northlightai.com/publications/f/microsoft-linkedin-and-the-year-of-ai', 'https://northlightai.com/publications/f/chatgpt-4o-updates-from-openai', 'https://northlightai.com/publications/f/this-week-in-ai-51324', 'https://northlightai.com/publications/f/nvidia-rendered-the-radioactive-star', 'https://northlightai.com/publications/f/secret-aigent-man', 'https://northlightai.com/publications/f/co-founder-interviewed-by-pictory-ai', 'https://northlightai.com/publications/f/prompt-engineering---a-baseline', 'https://northlightai.com/publications/f/what-is-a-token-in-chatgpt', 'https://northlightai.com/publications/f/large-language-models-llms-a-brief-overview', 'https://northlightai.com/publications/f/google-gemini', 'https://northlightai.com/publications/f/chef-ai', 'https://northlightai.com/publications/f/why-ai', 'https://northlightai.com']\n",
      "Final URLs: ['https://www.northlightai.com', 'https://northlightai.com/publications', 'https://northlightai.com/faq', 'https://northlightai.com/our-customers-1', 'https://northlightai.com/', 'https://northlightai.com/ai-strategic-consulting', 'https://northlightai.com/ai-innovation-lab', 'https://northlightai.com/our-team', 'https://northlightai.com/higher-education', 'https://northlightai.com/product-development', 'https://northlightai.com/north-light-values', 'https://northlightai.com/ai-training-%26-development-1', 'https://northlightai.com/technical-partners', 'https://northlightai.com/ai-literacy-sponsorships', 'https://northlightai.com/m/login', 'https://northlightai.com/m/reset', 'https://northlightai.com/m/create', 'https://northlightai.com/m/create-account', 'https://northlightai.com/publications/f/north-light-ai-partners-with-unh-to-launch-affordable-ai-training', 'https://northlightai.com/publications/f/openais-new-o1-strawberry-model-released', 'https://northlightai.com/publications/f/north-light-ai-and-buzzy-join-forces-in-ai-education', 'https://northlightai.com/publications/f/microsoft-linkedin-and-the-year-of-ai', 'https://northlightai.com/publications/f/chatgpt-4o-updates-from-openai', 'https://northlightai.com/publications/f/this-week-in-ai-51324', 'https://northlightai.com/publications/f/nvidia-rendered-the-radioactive-star', 'https://northlightai.com/publications/f/secret-aigent-man', 'https://northlightai.com/publications/f/co-founder-interviewed-by-pictory-ai', 'https://northlightai.com/publications/f/prompt-engineering---a-baseline', 'https://northlightai.com/publications/f/what-is-a-token-in-chatgpt', 'https://northlightai.com/publications/f/large-language-models-llms-a-brief-overview', 'https://northlightai.com/publications/f/google-gemini', 'https://northlightai.com/publications/f/chef-ai', 'https://northlightai.com/publications/f/why-ai', 'https://northlightai.com']\n",
      "Final URLs: ['https://www.northlightai.com', 'https://northlightai.com/publications', 'https://northlightai.com/faq', 'https://northlightai.com/our-customers-1', 'https://northlightai.com/', 'https://northlightai.com/ai-strategic-consulting', 'https://northlightai.com/ai-innovation-lab', 'https://northlightai.com/our-team', 'https://northlightai.com/higher-education', 'https://northlightai.com/product-development', 'https://northlightai.com/north-light-values', 'https://northlightai.com/ai-training-%26-development-1', 'https://northlightai.com/technical-partners', 'https://northlightai.com/ai-literacy-sponsorships', 'https://northlightai.com/m/login', 'https://northlightai.com/m/reset', 'https://northlightai.com/m/create', 'https://northlightai.com/m/create-account', 'https://northlightai.com/publications/f/north-light-ai-partners-with-unh-to-launch-affordable-ai-training', 'https://northlightai.com/publications/f/openais-new-o1-strawberry-model-released', 'https://northlightai.com/publications/f/north-light-ai-and-buzzy-join-forces-in-ai-education', 'https://northlightai.com/publications/f/microsoft-linkedin-and-the-year-of-ai', 'https://northlightai.com/publications/f/chatgpt-4o-updates-from-openai', 'https://northlightai.com/publications/f/this-week-in-ai-51324', 'https://northlightai.com/publications/f/nvidia-rendered-the-radioactive-star', 'https://northlightai.com/publications/f/secret-aigent-man', 'https://northlightai.com/publications/f/co-founder-interviewed-by-pictory-ai', 'https://northlightai.com/publications/f/prompt-engineering---a-baseline', 'https://northlightai.com/publications/f/what-is-a-token-in-chatgpt', 'https://northlightai.com/publications/f/large-language-models-llms-a-brief-overview', 'https://northlightai.com/publications/f/google-gemini', 'https://northlightai.com/publications/f/chef-ai', 'https://northlightai.com/publications/f/why-ai', 'https://northlightai.com']\n",
      "There are 34 links ready to be scraped.\n"
     ]
    }
   ],
   "source": [
    "def extract_final_urls(url): # List all URLs in the sitemap.\n",
    "    \n",
    "    url = normalize_url(url)\n",
    "    final_urls = [url]\n",
    "    if not url.endswith('/sitemap.xml'):\n",
    "        url += '/sitemap.xml'\n",
    "    tree = parse_sitemap(url)\n",
    "    \n",
    "\n",
    "    def _walk_tree(node):\n",
    "        if isinstance(node, dict):\n",
    "            for key, value in node.items():\n",
    "                if key == \"_final_urls\" and isinstance(value, list):\n",
    "                    final_urls.extend(value)\n",
    "                else:\n",
    "                    _walk_tree(value)\n",
    "        elif isinstance(node, list):\n",
    "            final_urls.extend([v for v in node if not v.endswith('.xml')])\n",
    "\n",
    "    _walk_tree(tree)\n",
    "\n",
    "    \n",
    "    return final_urls\n",
    "\n",
    "print(f\"Final URLs: {extract_final_urls('https://northlightai.com')}\")\n",
    "print(f\"Final URLs: {extract_final_urls('https://www.northlightai.com/')}\")\n",
    "print(f\"Final URLs: {extract_final_urls('https://northlightai.com/sitemap.xml')}\")\n",
    "\n",
    "print(f\"There are {len(extract_final_urls('https://northlightai.com/sitemap.xml'))} links ready to be scraped.\")\n",
    "\n",
    "# The outout here is an input for the scraper or the visualizer."
   ]
  },
  {
   "cell_type": "markdown",
   "id": "435101c1",
   "metadata": {},
   "source": [
    "# Scraper"
   ]
  },
  {
   "cell_type": "code",
   "execution_count": 8,
   "id": "994cd3cf",
   "metadata": {},
   "outputs": [
    {
     "name": "stdout",
     "output_type": "stream",
     "text": [
      "Scraped text: AI Strategic Consulting Services | North Light AI Home Our Services AI Training & Development AI Lit...\n",
      "len(text): 2972 characters\n"
     ]
    }
   ],
   "source": [
    "import requests\n",
    "from bs4 import BeautifulSoup\n",
    "from selenium import webdriver\n",
    "from selenium.webdriver.chrome.options import Options\n",
    "from selenium.webdriver.common.by import By\n",
    "import time\n",
    "\n",
    "\n",
    "HEADERS = {\"User-Agent\": \"Mozilla/5.0\"}\n",
    "\n",
    "def scrape(url):\n",
    "    try:\n",
    "        response = requests.get(url, headers=HEADERS, timeout=10)\n",
    "        soup = BeautifulSoup(response.text, 'html.parser')\n",
    "        text = soup.get_text(separator=' ', strip=True)\n",
    "        if text:\n",
    "            return text\n",
    "    except:\n",
    "        pass\n",
    "\n",
    "    try:\n",
    "        options = Options()\n",
    "        options.add_argument('--headless')\n",
    "        options.add_argument('--disable-gpu')\n",
    "        options.add_argument('--no-sandbox')\n",
    "        driver = webdriver.Chrome(options=options)\n",
    "        driver.get(url)\n",
    "        time.sleep(3)\n",
    "        elems = driver.find_elements(By.TAG_NAME, \"p\")\n",
    "        text = ' '.join(elem.text for elem in elems).strip()\n",
    "        driver.quit()\n",
    "        return text\n",
    "    except:\n",
    "        return \"\"\n",
    "    \n",
    "text = scrape(\"https://northlightai.com\")\n",
    "print(f\"Scraped text: {text[:100]}...\")  # Print the first 100 characters of the scraped text\n",
    "print(f\"len(text): {len(text)} characters\")\n",
    "\n",
    "# The output here is an input for the RAG model."
   ]
  },
  {
   "cell_type": "markdown",
   "id": "eacedc5f",
   "metadata": {},
   "source": [
    "# Visualizer"
   ]
  },
  {
   "cell_type": "code",
   "execution_count": 9,
   "id": "8ad7f180",
   "metadata": {},
   "outputs": [
    {
     "name": "stdout",
     "output_type": "stream",
     "text": [
      "Output files successfully generated: output/sitemap_network.html and output/sitemap_tree.json\n"
     ]
    }
   ],
   "source": [
    "import networkx as nx\n",
    "from pyvis.network import Network\n",
    "import json\n",
    "\n",
    "def tree_to_edges(tree, parent=None):\n",
    "    edges = []\n",
    "    if isinstance(tree, list):\n",
    "        for item in tree:\n",
    "            edges.append((parent, item))\n",
    "    elif isinstance(tree, dict):\n",
    "        for key, value in tree.items():\n",
    "            if parent:\n",
    "                edges.append((parent, key))\n",
    "            edges += tree_to_edges(value, parent=key)\n",
    "    return edges\n",
    "\n",
    "def generate_graph(sitemap_url, output_file=\"sitemap_network.html\", json_filename=None):\n",
    "    tree = parse_sitemap(sitemap_url)\n",
    "\n",
    "    # Default name if not provided\n",
    "    if json_filename is None:\n",
    "        json_filename = \"sitemap_tree.json\"\n",
    "\n",
    "    with open(json_filename, \"w\", encoding=\"utf-8\") as f:\n",
    "        json.dump(tree, f, indent=2)\n",
    "\n",
    "    edges = tree_to_edges(tree[sitemap_url], parent=sitemap_url)\n",
    "\n",
    "    G = nx.DiGraph()\n",
    "    G.add_edges_from(edges)\n",
    "    net = Network(height=\"750px\", width=\"100%\", directed=True, notebook=False)\n",
    "\n",
    "    for node in G.nodes():\n",
    "        if node == sitemap_url:\n",
    "            net.add_node(node, label=str(urlparse(sitemap_url).netloc), title=node, shape='dot', size=30,\n",
    "                         color={\"background\": \"white\", \"border\": \"blue\"}, borderWidth=4,\n",
    "                         font={\"color\": \"black\", \"size\": 35, \"bold\": True})\n",
    "        elif node.endswith('.xml'):\n",
    "            net.add_node(node, label=\"Sitemap\", title=node, shape='dot', size=25)\n",
    "        else:\n",
    "            net.add_node(node, label=\" \", title=node, shape='dot', size=15,\n",
    "                         color={\"background\": \"#ccffcc\", \"border\": \"#009933\"})\n",
    "\n",
    "    for source, target in G.edges():\n",
    "        net.add_edge(source, target)\n",
    "\n",
    "    net.force_atlas_2based()\n",
    "    net.set_options(\"\"\"\n",
    "    { \"physics\": { \"stabilization\": false }, \"interaction\": { \"dragNodes\": true } }\n",
    "    \"\"\")\n",
    "    net.write_html(output_file)\n",
    "\n",
    "    # Read the generated HTML\n",
    "    with open(output_file, \"r\", encoding=\"utf-8\") as f:\n",
    "        html = f.read()\n",
    "\n",
    "    # Inject JS\n",
    "    inject_js = f\"\"\"\n",
    "    <script type=\"text/javascript\">\n",
    "    window.addEventListener(\"load\", function () {{\n",
    "        // ✅ Hide the Pyvis loading bar if it exists\n",
    "        const loader = document.getElementById(\"loadingBar\");\n",
    "        if (loader) loader.style.display = \"none\";\n",
    "\n",
    "        const rootNodeId = \"{sitemap_url}\";\n",
    "        const titleNodeId = \"graph_title\";\n",
    "        const originalLabels = {{}};\n",
    "\n",
    "        network.on(\"click\", function (params) {{\n",
    "        if (params.nodes.length > 0) {{\n",
    "            let clickedNodeId = params.nodes[0];\n",
    "\n",
    "            nodes.get().forEach(function (node) {{\n",
    "            if (!(node.id in originalLabels)) {{\n",
    "                originalLabels[node.id] = node.label;\n",
    "            }}\n",
    "\n",
    "            if (node.id === rootNodeId || node.id === titleNodeId) {{\n",
    "                return;\n",
    "            }}\n",
    "\n",
    "            if (node.id === clickedNodeId) {{\n",
    "                nodes.update({{id: node.id, label: node.title}});\n",
    "            }} else {{\n",
    "                nodes.update({{id: node.id, label: \"\"}});\n",
    "            }}\n",
    "            }});\n",
    "        }} else {{\n",
    "            nodes.get().forEach(function (node) {{\n",
    "            if (node.id !== rootNodeId && node.id !== titleNodeId && originalLabels[node.id] === \"\") {{\n",
    "                nodes.update({{id: node.id, label: \"\"}});\n",
    "            }}\n",
    "            }});\n",
    "        }}\n",
    "        }});\n",
    "    }});\n",
    "    </script>\n",
    "    \"\"\"\n",
    "\n",
    "    # Inject before </body>\n",
    "    html = html.replace(\"</body>\", inject_js + \"\\\\n</body>\")\n",
    "\n",
    "    # Save it back\n",
    "    with open(output_file, \"w\", encoding=\"utf-8\") as f:\n",
    "        f.write(html)\n",
    "    print(f\"Output files successfully generated: {output_file} and {json_filename}\")\n",
    "    return output_file\n",
    "\n",
    "sitemap_url = 'https://northlightai.com/sitemap.xml' # This should receive .xml URLs\n",
    "output_file = generate_graph(sitemap_url, output_file=\"output/sitemap_network.html\", json_filename=\"output/sitemap_tree.json\")\n",
    "\n"
   ]
  },
  {
   "cell_type": "markdown",
   "id": "995f10af",
   "metadata": {},
   "source": [
    "# RAG model (using Langchain)\n",
    "## Step 1) Indexing\n",
    "### 1.1) Load"
   ]
  },
  {
   "cell_type": "code",
   "execution_count": 19,
   "id": "96b7d3fb",
   "metadata": {},
   "outputs": [
    {
     "name": "stdout",
     "output_type": "stream",
     "text": [
      "Openai API key successfully imported from .env file.\n"
     ]
    }
   ],
   "source": [
    "import getpass\n",
    "import os\n",
    "import dotenv\n",
    "# Load environment variables from .env file\n",
    "dotenv.load_dotenv()\n",
    "\n",
    "if not os.environ.get(\"OPENAI_API_KEY\"):\n",
    "  os.environ[\"OPENAI_API_KEY\"] = getpass.getpass(\"Enter API key for OpenAI: \")\n",
    "else:\n",
    "  print(f\"Openai API key successfully imported from .env file.\")\n",
    "  #print(f\"Key: {os.environ.get('OPENAI_API_KEY')}\")"
   ]
  },
  {
   "cell_type": "markdown",
   "id": "475dcd20",
   "metadata": {},
   "source": [
    "### Setup"
   ]
  },
  {
   "cell_type": "code",
   "execution_count": 20,
   "id": "37c6280a",
   "metadata": {},
   "outputs": [],
   "source": [
    "# Chat Model\n",
    "from langchain.chat_models import init_chat_model\n",
    "\n",
    "llm = init_chat_model(\"gpt-4o-mini\", model_provider=\"openai\")\n",
    "\n",
    "# Embedding Model\n",
    "from langchain_openai import OpenAIEmbeddings\n",
    "\n",
    "embeddings = OpenAIEmbeddings(model=\"text-embedding-3-large\")\n",
    "\n",
    "# Vector Store-In memory\n",
    "from langchain_core.vectorstores import InMemoryVectorStore\n",
    "\n",
    "vector_store = InMemoryVectorStore(embeddings)\n",
    "\n",
    "# Vector Store-Supabase\n",
    "from langchain_community.vectorstores import SupabaseVectorStore\n",
    "from langchain_openai import OpenAIEmbeddings  # or any other embedding model\n",
    "from supabase import create_client, Client\n",
    "\n",
    "# Initialize Supabase client\n",
    "\n",
    "supabase_url = os.environ.get(\"SUPABASE_URL\")\n",
    "supabase_key = os.environ.get(\"SUPABASE_SERVICE_KEY\")\n",
    "supabase: Client = create_client(supabase_url, supabase_key)\n",
    "\n",
    "# Embeddings\n",
    "embedding = OpenAIEmbeddings()\n",
    "\n",
    "# Create or connect to Supabase vector store\n",
    "vector_store = SupabaseVectorStore(\n",
    "    client=supabase,\n",
    "    embedding=embedding,\n",
    "    table_name=\"documents\",  # You can change this\n",
    "    query_name=\"match_documents\"  # Needs to be created in Supabase SQL\n",
    ")\n"
   ]
  },
  {
   "cell_type": "code",
   "execution_count": null,
   "id": "c0753c88",
   "metadata": {},
   "outputs": [],
   "source": []
  }
 ],
 "metadata": {
  "kernelspec": {
   "display_name": ".venv",
   "language": "python",
   "name": "python3"
  },
  "language_info": {
   "codemirror_mode": {
    "name": "ipython",
    "version": 3
   },
   "file_extension": ".py",
   "mimetype": "text/x-python",
   "name": "python",
   "nbconvert_exporter": "python",
   "pygments_lexer": "ipython3",
   "version": "3.13.3"
  }
 },
 "nbformat": 4,
 "nbformat_minor": 5
}
